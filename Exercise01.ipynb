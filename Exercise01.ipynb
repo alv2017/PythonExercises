{
 "cells": [
  {
   "cell_type": "code",
   "execution_count": 4,
   "id": "medieval-addition",
   "metadata": {},
   "outputs": [],
   "source": [
    "import os\n",
    "import csv\n",
    "\n",
    "# Settings\n",
    "DATA_FILE = os.path.join('data', '2017.csv')\n",
    "NUM_OF_TOP_ITEMS = 3\n",
    "\n",
    "# Utility functions\n",
    "def get_ntop_items(ntop_items, datadict):\n",
    "    if len(datadict) < ntop_items:\n",
    "        raise ValueError(\"Not enough items in data dictionary.\")\n",
    "    else:\n",
    "        return dict(sorted(datadict.items(), key=lambda item: -item[1])[:ntop_items])"
   ]
  },
  {
   "cell_type": "markdown",
   "id": "retired-reward",
   "metadata": {},
   "source": [
    "## Question 1: What exchange had the most transactions in the file?\n",
    "\n",
    "### Answer: 'LSE'"
   ]
  },
  {
   "cell_type": "code",
   "execution_count": 8,
   "id": "ruled-belarus",
   "metadata": {},
   "outputs": [
    {
     "data": {
      "text/plain": [
       "{'off exchange': 9588, 'LSE (UK)': 3146, 'Euronext Paris (France)': 2889}"
      ]
     },
     "execution_count": 8,
     "metadata": {},
     "output_type": "execute_result"
    }
   ],
   "source": [
    "# Solution to Question 1\n",
    "\n",
    "exchange_summary = {}\n",
    "with open(DATA_FILE, newline='') as csvfile:\n",
    "    reader = csv.DictReader(csvfile)\n",
    "    for row in reader:\n",
    "        exchange_name = row['exchange']\n",
    "        if exchange_name not in exchange_summary:\n",
    "            exchange_summary[exchange_name] = 1\n",
    "        else:\n",
    "            exchange_summary[exchange_name] += 1\n",
    "\n",
    "top_exchanges = get_ntop_items(NUM_OF_TOP_ITEMS, exchange_summary)\n",
    "top_exchanges"
   ]
  },
  {
   "cell_type": "markdown",
   "id": "sorted-design",
   "metadata": {},
   "source": [
    "## Question 2: In August 2017, which company had the highest combined value EUR?\n",
    "### Answer: 'HSBC HLDGS PLC'"
   ]
  },
  {
   "cell_type": "code",
   "execution_count": 7,
   "id": "automatic-nicholas",
   "metadata": {},
   "outputs": [
    {
     "data": {
      "text/plain": [
       "{'HSBC HLDGS PLC': 3311729433.4614997,\n",
       " 'EUROSIC SA': 1310917260.0,\n",
       " 'CHRISTIAN DIOR SE': 228900489.802}"
      ]
     },
     "execution_count": 7,
     "metadata": {},
     "output_type": "execute_result"
    }
   ],
   "source": [
    "# Solution to Question 2\n",
    "# In order to solve the Question 2 I'm going to sum up values in EUR for each company in the csv file.\n",
    "\n",
    "company_summary = {}\n",
    "with open(DATA_FILE, newline='') as csvfile:\n",
    "    reader = csv.DictReader(csvfile)\n",
    "    for row in reader:\n",
    "        trade_date = str(row['tradedate'])\n",
    "        if trade_date >= '20170801' and row['tradedate'] < '20170901':\n",
    "            company_name = row['companyName']\n",
    "            company_value = float(row['valueEUR'])\n",
    "            if company_name not in company_summary:\n",
    "                company_summary[company_name] = company_value\n",
    "            else:\n",
    "                company_summary[company_name] += company_value\n",
    "\n",
    "# Top 3 companies\n",
    "top_companies = get_ntop_items(NUM_OF_TOP_ITEMS, company_summary)\n",
    "top_companies"
   ]
  },
  {
   "cell_type": "markdown",
   "id": "extraordinary-reflection",
   "metadata": {},
   "source": [
    "## Question 3: For 2017, only considering transactions with tradeSignificance 3, what is the percentage of transactions per month?"
   ]
  },
  {
   "cell_type": "code",
   "execution_count": 14,
   "id": "permanent-comfort",
   "metadata": {},
   "outputs": [
    {
     "name": "stdout",
     "output_type": "stream",
     "text": [
      "\n",
      "*** Percentage of S3 operations from total operations (in 2017).\n",
      "2017.01: 59.29 %\n",
      "2017.02: 49.45 %\n",
      "2017.03: 45.03 %\n",
      "2017.04: 45.2 %\n",
      "2017.05: 50.82 %\n",
      "2017.06: 53.08 %\n",
      "2017.07: 51.81 %\n",
      "2017.08: 70.52 %\n",
      "2017.09: 64.35 %\n",
      "2017.10: 59.69 %\n",
      "2017.11: 57.47 %\n",
      "2017.12: 55.54 %\n",
      "\n",
      "*** Distribution of S3 operations by month (in 2017)\n",
      "2017.01: 7.62 %\n",
      "2017.02: 8.41 %\n",
      "2017.03: 12.67 %\n",
      "2017.04: 7.27 %\n",
      "2017.05: 10.98 %\n",
      "2017.06: 1.09 %\n",
      "2017.07: 0.4 %\n",
      "2017.08: 8.78 %\n",
      "2017.09: 12.59 %\n",
      "2017.10: 10.01 %\n",
      "2017.11: 11.23 %\n",
      "2017.12: 8.96 %\n"
     ]
    }
   ],
   "source": [
    "trade_summary = {}\n",
    "with open(DATA_FILE, newline='') as csvfile:\n",
    "    reader = csv.DictReader(csvfile)\n",
    "    num_trades = 0\n",
    "    num_s3_trades = 0\n",
    "    for row in reader:\n",
    "        trade_date = str(row['tradedate'])\n",
    "        trade_year = '2017'\n",
    "        if trade_date >= '20170101' and trade_date < '20180101':\n",
    "            trade_year_month = trade_year + '.' + trade_date[4:6]\n",
    "            trades_s3 = 0\n",
    "            if int(row['tradeSignificance']) == 3:\n",
    "                trades_s3 = 1\n",
    "            if trade_year_month not in trade_summary:\n",
    "                trade_summary[trade_year_month] = {'trades': 1, 'trades_s3': trades_s3}\n",
    "            else:\n",
    "                trade_summary[trade_year_month]['trades'] += 1\n",
    "                trade_summary[trade_year_month]['trades_s3'] += trades_s3\n",
    "\n",
    "\n",
    "for item in trade_summary:\n",
    "    trade_summary[item]['s3_pct'] = round(trade_summary[item]['trades_s3'] / trade_summary[item]['trades'] * 100, 2)\n",
    "\n",
    "# Percentage of S3 operations from total\n",
    "print(\"\\n*** Percentage of S3 operations from total operations (in 2017).\")\n",
    "for k, v in sorted(trade_summary.items()):\n",
    "    print(f\"{k}: {v['s3_pct']} %\")\n",
    "\n",
    "# Distribution of S3 Operations by Month in 2017\n",
    "print(\"\\n*** Distribution of S3 operations by month (in 2017)\")\n",
    "total_s3 = sum(val['trades_s3'] for val in trade_summary.values())\n",
    "for k, v in sorted(trade_summary.items()):\n",
    "    s3_monthly_pct = round(v['trades_s3'] / total_s3 * 100, 2)\n",
    "    print(f\"{k}: {s3_monthly_pct} %\")"
   ]
  },
  {
   "cell_type": "code",
   "execution_count": null,
   "id": "sexual-seminar",
   "metadata": {},
   "outputs": [],
   "source": []
  }
 ],
 "metadata": {
  "kernelspec": {
   "display_name": "Python 3",
   "language": "python",
   "name": "python3"
  },
  "language_info": {
   "codemirror_mode": {
    "name": "ipython",
    "version": 3
   },
   "file_extension": ".py",
   "mimetype": "text/x-python",
   "name": "python",
   "nbconvert_exporter": "python",
   "pygments_lexer": "ipython3",
   "version": "3.9.1"
  }
 },
 "nbformat": 4,
 "nbformat_minor": 5
}
